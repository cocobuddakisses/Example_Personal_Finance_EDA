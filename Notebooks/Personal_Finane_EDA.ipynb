{
 "cells": [
  {
   "cell_type": "markdown",
   "id": "20c0ff5a",
   "metadata": {},
   "source": [
    "# Example Finance EDA\n",
    "\n",
    "Using a Kaggle dataset of synthetic  personal finances\n",
    "\n",
    "### Key goals to explore in this project 📌\n"
   ]
  },
  {
   "cell_type": "markdown",
   "id": "18922ac7",
   "metadata": {},
   "source": [
    "-Graph Expenses to vizualise how money is being spent\\\n",
    "-Line graph to see trends over time\\\n",
    "-Comparing Expenses to Income\\\n",
    "-Monthly net balance: Income-Expenses\\\n",
    "-Future Projections\n",
    "\n",
    "Date: The date of the transaction, spanning from January 1, 2020, to December 31, 2024.\n",
    "\n",
    "## 1️⃣ Load the Data 🗂️\n",
    "\n",
    "In this section, we’ll import the necessary libraries and load the dataset to begin our analysis.\n"
   ]
  },
  {
   "cell_type": "code",
   "execution_count": 38,
   "id": "e54809b3",
   "metadata": {},
   "outputs": [
    {
     "data": {
      "text/html": [
       "<div>\n",
       "<style scoped>\n",
       "    .dataframe tbody tr th:only-of-type {\n",
       "        vertical-align: middle;\n",
       "    }\n",
       "\n",
       "    .dataframe tbody tr th {\n",
       "        vertical-align: top;\n",
       "    }\n",
       "\n",
       "    .dataframe thead th {\n",
       "        text-align: right;\n",
       "    }\n",
       "</style>\n",
       "<table border=\"1\" class=\"dataframe\">\n",
       "  <thead>\n",
       "    <tr style=\"text-align: right;\">\n",
       "      <th></th>\n",
       "      <th>Date</th>\n",
       "      <th>Transaction Description</th>\n",
       "      <th>Category</th>\n",
       "      <th>Amount</th>\n",
       "      <th>Type</th>\n",
       "    </tr>\n",
       "  </thead>\n",
       "  <tbody>\n",
       "    <tr>\n",
       "      <th>0</th>\n",
       "      <td>2020-01-02</td>\n",
       "      <td>Score each.</td>\n",
       "      <td>Food &amp; Drink</td>\n",
       "      <td>1485.69</td>\n",
       "      <td>Expense</td>\n",
       "    </tr>\n",
       "    <tr>\n",
       "      <th>1</th>\n",
       "      <td>2020-01-02</td>\n",
       "      <td>Quality throughout.</td>\n",
       "      <td>Utilities</td>\n",
       "      <td>1475.58</td>\n",
       "      <td>Expense</td>\n",
       "    </tr>\n",
       "    <tr>\n",
       "      <th>2</th>\n",
       "      <td>2020-01-04</td>\n",
       "      <td>Instead ahead despite measure ago.</td>\n",
       "      <td>Rent</td>\n",
       "      <td>1185.08</td>\n",
       "      <td>Expense</td>\n",
       "    </tr>\n",
       "    <tr>\n",
       "      <th>3</th>\n",
       "      <td>2020-01-05</td>\n",
       "      <td>Information last everything thank serve.</td>\n",
       "      <td>Investment</td>\n",
       "      <td>2291.00</td>\n",
       "      <td>Income</td>\n",
       "    </tr>\n",
       "    <tr>\n",
       "      <th>4</th>\n",
       "      <td>2020-01-13</td>\n",
       "      <td>Future choice whatever from.</td>\n",
       "      <td>Food &amp; Drink</td>\n",
       "      <td>1126.88</td>\n",
       "      <td>Expense</td>\n",
       "    </tr>\n",
       "  </tbody>\n",
       "</table>\n",
       "</div>"
      ],
      "text/plain": [
       "         Date                   Transaction Description      Category  \\\n",
       "0  2020-01-02                               Score each.  Food & Drink   \n",
       "1  2020-01-02                       Quality throughout.     Utilities   \n",
       "2  2020-01-04        Instead ahead despite measure ago.          Rent   \n",
       "3  2020-01-05  Information last everything thank serve.    Investment   \n",
       "4  2020-01-13              Future choice whatever from.  Food & Drink   \n",
       "\n",
       "    Amount     Type  \n",
       "0  1485.69  Expense  \n",
       "1  1475.58  Expense  \n",
       "2  1185.08  Expense  \n",
       "3  2291.00   Income  \n",
       "4  1126.88  Expense  "
      ]
     },
     "execution_count": 38,
     "metadata": {},
     "output_type": "execute_result"
    }
   ],
   "source": [
    "#import libraries\n",
    "\n",
    "import pandas as pd\n",
    "import seaborn as sns\n",
    "import matplotlib.pyplot as plt\n",
    "\n",
    "#load CSV file\n",
    "\n",
    "df = pd.read_csv('c:\\projects\\Finance CSV EDA\\Personal_Finance_Dataset.csv')\n",
    "\n",
    "#Quick look at the columns and data we're using\n",
    "\n",
    "df.head()"
   ]
  },
  {
   "cell_type": "markdown",
   "id": "44720888",
   "metadata": {},
   "source": [
    "## 2️⃣ Clean data 🧹\n",
    "\n",
    "Make sure theres no missing entries and change salary from type expense to income. Also we will drop the 'Transaction Description' Column as we never use this."
   ]
  },
  {
   "cell_type": "code",
   "execution_count": 39,
   "id": "1523a97b",
   "metadata": {},
   "outputs": [],
   "source": [
    "#use.drop('Transaction Description') to remove column\n",
    "df= df.drop(['Transaction Description'],axis=1)"
   ]
  },
  {
   "cell_type": "code",
   "execution_count": 40,
   "id": "6b322c87",
   "metadata": {},
   "outputs": [
    {
     "data": {
      "text/plain": [
       "Date        0\n",
       "Category    0\n",
       "Amount      0\n",
       "Type        0\n",
       "dtype: int64"
      ]
     },
     "execution_count": 40,
     "metadata": {},
     "output_type": "execute_result"
    }
   ],
   "source": [
    "#see if theres is any missing data entries\n",
    "df.isna().sum()\n"
   ]
  },
  {
   "cell_type": "code",
   "execution_count": 41,
   "id": "85a87738",
   "metadata": {},
   "outputs": [],
   "source": [
    "#Change all salary entries from expense to income\n",
    "df.loc[df['Category'] == 'Salary', 'Type'] = 'Income'"
   ]
  },
  {
   "cell_type": "markdown",
   "id": "4e0cf07b",
   "metadata": {},
   "source": [
    "Confirmed no missing data. Now we can start analysis"
   ]
  },
  {
   "cell_type": "markdown",
   "id": "2444d2a7",
   "metadata": {},
   "source": [
    "## 3️⃣ Visualize Total Expenses 📊\n",
    "\n",
    "Using a pie graph will allow us to see where expenses are going\\\n",
    "Let's filter out Income under the type column for now"
   ]
  },
  {
   "cell_type": "code",
   "execution_count": 42,
   "id": "4dc81eac",
   "metadata": {},
   "outputs": [
    {
     "data": {
      "text/plain": [
       "<function matplotlib.pyplot.show(close=None, block=None)>"
      ]
     },
     "execution_count": 42,
     "metadata": {},
     "output_type": "execute_result"
    },
    {
     "data": {
      "image/png": "[encoded data removed]",
      "text/plain": [
       "<Figure size 640x480 with 1 Axes>"
      ]
     },
     "metadata": {},
     "output_type": "display_data"
    }
   ],
   "source": [
    "#Filter 'Type' column to only show Expenses\n",
    "\n",
    "expenses = df[df['Type'] == 'Expense']\n",
    "\n",
    "#Create a grouped df to plot with a pie graph\n",
    "\n",
    "grouped_expenses = expenses.groupby('Category')['Amount'].sum()\n",
    "grouped_expenses.plot.pie(autopct='%.1f%%', startangle= 90, labels=grouped_expenses.index)\n",
    "plt.title(\"Distribution by Expense Type\")\n",
    "plt.ylabel('')\n",
    "plt.show\n"
   ]
  },
  {
   "cell_type": "markdown",
   "id": "a09bd50f",
   "metadata": {},
   "source": [
    "As show in the pie chart, expenses are evenly distributed with the largest and smallest expense types being within 2.2% of eachother.\\\n",
    "Salary being listed as an expence seems odd at first, however, an assumption is being made that this refers to job related expenses - uniform, tools ect"
   ]
  },
  {
   "cell_type": "markdown",
   "id": "6d1fd390",
   "metadata": {},
   "source": [
    "## 4️⃣ Expense Trends Over Time 📈\n",
    "\n",
    "Lets use the previously created expenses dataframe to analyse spending trends over time. We're not too concerened with type so the created 'expenses' dataframe will be perfect.\\\n",
    "However, we will need to create a new month column based off the expense date."
   ]
  },
  {
   "cell_type": "code",
   "execution_count": 43,
   "id": "473a2c35",
   "metadata": {},
   "outputs": [
    {
     "data": {
      "text/html": [
       "<div>\n",
       "<style scoped>\n",
       "    .dataframe tbody tr th:only-of-type {\n",
       "        vertical-align: middle;\n",
       "    }\n",
       "\n",
       "    .dataframe tbody tr th {\n",
       "        vertical-align: top;\n",
       "    }\n",
       "\n",
       "    .dataframe thead th {\n",
       "        text-align: right;\n",
       "    }\n",
       "</style>\n",
       "<table border=\"1\" class=\"dataframe\">\n",
       "  <thead>\n",
       "    <tr style=\"text-align: right;\">\n",
       "      <th></th>\n",
       "      <th>Date</th>\n",
       "      <th>Category</th>\n",
       "      <th>Amount</th>\n",
       "      <th>Type</th>\n",
       "    </tr>\n",
       "  </thead>\n",
       "  <tbody>\n",
       "    <tr>\n",
       "      <th>0</th>\n",
       "      <td>2020-01-02</td>\n",
       "      <td>Food &amp; Drink</td>\n",
       "      <td>1485.69</td>\n",
       "      <td>Expense</td>\n",
       "    </tr>\n",
       "    <tr>\n",
       "      <th>1</th>\n",
       "      <td>2020-01-02</td>\n",
       "      <td>Utilities</td>\n",
       "      <td>1475.58</td>\n",
       "      <td>Expense</td>\n",
       "    </tr>\n",
       "    <tr>\n",
       "      <th>2</th>\n",
       "      <td>2020-01-04</td>\n",
       "      <td>Rent</td>\n",
       "      <td>1185.08</td>\n",
       "      <td>Expense</td>\n",
       "    </tr>\n",
       "    <tr>\n",
       "      <th>4</th>\n",
       "      <td>2020-01-13</td>\n",
       "      <td>Food &amp; Drink</td>\n",
       "      <td>1126.88</td>\n",
       "      <td>Expense</td>\n",
       "    </tr>\n",
       "    <tr>\n",
       "      <th>5</th>\n",
       "      <td>2020-01-14</td>\n",
       "      <td>Shopping</td>\n",
       "      <td>448.68</td>\n",
       "      <td>Expense</td>\n",
       "    </tr>\n",
       "  </tbody>\n",
       "</table>\n",
       "</div>"
      ],
      "text/plain": [
       "         Date      Category   Amount     Type\n",
       "0  2020-01-02  Food & Drink  1485.69  Expense\n",
       "1  2020-01-02     Utilities  1475.58  Expense\n",
       "2  2020-01-04          Rent  1185.08  Expense\n",
       "4  2020-01-13  Food & Drink  1126.88  Expense\n",
       "5  2020-01-14      Shopping   448.68  Expense"
      ]
     },
     "execution_count": 43,
     "metadata": {},
     "output_type": "execute_result"
    }
   ],
   "source": [
    "#Lets see what data type each column is\n",
    "\n",
    "expenses.dtypes\n",
    "expenses.head(5)"
   ]
  },
  {
   "cell_type": "code",
   "execution_count": 44,
   "id": "3b1219c5",
   "metadata": {},
   "outputs": [
    {
     "data": {
      "text/html": [
       "<div>\n",
       "<style scoped>\n",
       "    .dataframe tbody tr th:only-of-type {\n",
       "        vertical-align: middle;\n",
       "    }\n",
       "\n",
       "    .dataframe tbody tr th {\n",
       "        vertical-align: top;\n",
       "    }\n",
       "\n",
       "    .dataframe thead th {\n",
       "        text-align: right;\n",
       "    }\n",
       "</style>\n",
       "<table border=\"1\" class=\"dataframe\">\n",
       "  <thead>\n",
       "    <tr style=\"text-align: right;\">\n",
       "      <th></th>\n",
       "      <th>Date</th>\n",
       "      <th>Category</th>\n",
       "      <th>Amount</th>\n",
       "      <th>Type</th>\n",
       "      <th>Expense_Month</th>\n",
       "    </tr>\n",
       "  </thead>\n",
       "  <tbody>\n",
       "    <tr>\n",
       "      <th>45</th>\n",
       "      <td>2020-03-11</td>\n",
       "      <td>Rent</td>\n",
       "      <td>1956.19</td>\n",
       "      <td>Expense</td>\n",
       "      <td>3</td>\n",
       "    </tr>\n",
       "    <tr>\n",
       "      <th>1470</th>\n",
       "      <td>2024-11-20</td>\n",
       "      <td>Health &amp; Fitness</td>\n",
       "      <td>385.26</td>\n",
       "      <td>Expense</td>\n",
       "      <td>11</td>\n",
       "    </tr>\n",
       "    <tr>\n",
       "      <th>735</th>\n",
       "      <td>2022-07-04</td>\n",
       "      <td>Rent</td>\n",
       "      <td>1006.58</td>\n",
       "      <td>Expense</td>\n",
       "      <td>7</td>\n",
       "    </tr>\n",
       "    <tr>\n",
       "      <th>926</th>\n",
       "      <td>2023-02-18</td>\n",
       "      <td>Entertainment</td>\n",
       "      <td>309.63</td>\n",
       "      <td>Expense</td>\n",
       "      <td>2</td>\n",
       "    </tr>\n",
       "    <tr>\n",
       "      <th>946</th>\n",
       "      <td>2023-03-10</td>\n",
       "      <td>Rent</td>\n",
       "      <td>323.65</td>\n",
       "      <td>Expense</td>\n",
       "      <td>3</td>\n",
       "    </tr>\n",
       "    <tr>\n",
       "      <th>517</th>\n",
       "      <td>2021-10-13</td>\n",
       "      <td>Health &amp; Fitness</td>\n",
       "      <td>1339.00</td>\n",
       "      <td>Expense</td>\n",
       "      <td>10</td>\n",
       "    </tr>\n",
       "    <tr>\n",
       "      <th>918</th>\n",
       "      <td>2023-02-07</td>\n",
       "      <td>Food &amp; Drink</td>\n",
       "      <td>366.90</td>\n",
       "      <td>Expense</td>\n",
       "      <td>2</td>\n",
       "    </tr>\n",
       "    <tr>\n",
       "      <th>1176</th>\n",
       "      <td>2023-12-06</td>\n",
       "      <td>Rent</td>\n",
       "      <td>871.37</td>\n",
       "      <td>Expense</td>\n",
       "      <td>12</td>\n",
       "    </tr>\n",
       "    <tr>\n",
       "      <th>86</th>\n",
       "      <td>2020-05-17</td>\n",
       "      <td>Rent</td>\n",
       "      <td>155.79</td>\n",
       "      <td>Expense</td>\n",
       "      <td>5</td>\n",
       "    </tr>\n",
       "    <tr>\n",
       "      <th>183</th>\n",
       "      <td>2020-09-06</td>\n",
       "      <td>Shopping</td>\n",
       "      <td>799.34</td>\n",
       "      <td>Expense</td>\n",
       "      <td>9</td>\n",
       "    </tr>\n",
       "  </tbody>\n",
       "</table>\n",
       "</div>"
      ],
      "text/plain": [
       "            Date          Category   Amount     Type  Expense_Month\n",
       "45    2020-03-11              Rent  1956.19  Expense              3\n",
       "1470  2024-11-20  Health & Fitness   385.26  Expense             11\n",
       "735   2022-07-04              Rent  1006.58  Expense              7\n",
       "926   2023-02-18     Entertainment   309.63  Expense              2\n",
       "946   2023-03-10              Rent   323.65  Expense              3\n",
       "517   2021-10-13  Health & Fitness  1339.00  Expense             10\n",
       "918   2023-02-07      Food & Drink   366.90  Expense              2\n",
       "1176  2023-12-06              Rent   871.37  Expense             12\n",
       "86    2020-05-17              Rent   155.79  Expense              5\n",
       "183   2020-09-06          Shopping   799.34  Expense              9"
      ]
     },
     "execution_count": 44,
     "metadata": {},
     "output_type": "execute_result"
    }
   ],
   "source": [
    "#Change Date to string so we can use .split method on it and retrieve the month and add that to a new column\n",
    "#Make a copy of expenses df so we don't damage previous data using this df\n",
    "expenses = expenses.copy()\n",
    "expenses['Date'] = expenses['Date'].astype(str)\n",
    "expenses['Expense_Month'] = expenses['Date'].str.split('-').str.get(1).astype(int)\n",
    "\n",
    "#Check if new 'Expense_Month' worked\n",
    "expenses.sample(n=10)"
   ]
  },
  {
   "cell_type": "markdown",
   "id": "913ebabf",
   "metadata": {},
   "source": [
    "Expense month column has been added, now we can start plotting monthly trends. 📈"
   ]
  },
  {
   "cell_type": "code",
   "execution_count": 45,
   "id": "76f54c31",
   "metadata": {},
   "outputs": [
    {
     "data": {
      "image/png": "[encoded data removed]",
      "text/plain": [
       "<Figure size 640x480 with 1 Axes>"
      ]
     },
     "metadata": {},
     "output_type": "display_data"
    }
   ],
   "source": [
    "monthly_grouped_expenses = expenses.groupby('Expense_Month')['Amount'].sum()\n",
    "#monthly_grouped_expenses.plot.line(lables=monthly_grouped_expenses.index)\n",
    "sns.lineplot(data=monthly_grouped_expenses)\n",
    "plt.title('Monthy Spending Trends')\n",
    "plt.xlabel('Expense Month')\n",
    "plt.show()"
   ]
  },
  {
   "cell_type": "markdown",
   "id": "c1dcd9df",
   "metadata": {},
   "source": [
    "### 🔍 Insight\n",
    "\n",
    "As shown, we see expenses peak in the 7th month July, with them being at their lowest at the end of the year.\\\n",
    "\n",
    "It would be interesting to see income trend as a hue on this graph! Let's do that.\n",
    "\n",
    "Using the original df created from the csv, we'll add a month column and group by type with amount sum."
   ]
  },
  {
   "cell_type": "code",
   "execution_count": 46,
   "id": "4ff11957",
   "metadata": {},
   "outputs": [
    {
     "data": {
      "text/html": [
       "<div>\n",
       "<style scoped>\n",
       "    .dataframe tbody tr th:only-of-type {\n",
       "        vertical-align: middle;\n",
       "    }\n",
       "\n",
       "    .dataframe tbody tr th {\n",
       "        vertical-align: top;\n",
       "    }\n",
       "\n",
       "    .dataframe thead th {\n",
       "        text-align: right;\n",
       "    }\n",
       "</style>\n",
       "<table border=\"1\" class=\"dataframe\">\n",
       "  <thead>\n",
       "    <tr style=\"text-align: right;\">\n",
       "      <th></th>\n",
       "      <th>Date</th>\n",
       "      <th>Category</th>\n",
       "      <th>Amount</th>\n",
       "      <th>Type</th>\n",
       "      <th>Month</th>\n",
       "    </tr>\n",
       "  </thead>\n",
       "  <tbody>\n",
       "    <tr>\n",
       "      <th>641</th>\n",
       "      <td>2022-03-28</td>\n",
       "      <td>Other</td>\n",
       "      <td>4762.00</td>\n",
       "      <td>Income</td>\n",
       "      <td>3</td>\n",
       "    </tr>\n",
       "    <tr>\n",
       "      <th>409</th>\n",
       "      <td>2021-05-19</td>\n",
       "      <td>Investment</td>\n",
       "      <td>1921.00</td>\n",
       "      <td>Income</td>\n",
       "      <td>5</td>\n",
       "    </tr>\n",
       "    <tr>\n",
       "      <th>314</th>\n",
       "      <td>2021-01-29</td>\n",
       "      <td>Utilities</td>\n",
       "      <td>521.37</td>\n",
       "      <td>Expense</td>\n",
       "      <td>1</td>\n",
       "    </tr>\n",
       "    <tr>\n",
       "      <th>1468</th>\n",
       "      <td>2024-11-19</td>\n",
       "      <td>Salary</td>\n",
       "      <td>606.22</td>\n",
       "      <td>Income</td>\n",
       "      <td>11</td>\n",
       "    </tr>\n",
       "    <tr>\n",
       "      <th>422</th>\n",
       "      <td>2021-05-31</td>\n",
       "      <td>Entertainment</td>\n",
       "      <td>649.84</td>\n",
       "      <td>Expense</td>\n",
       "      <td>5</td>\n",
       "    </tr>\n",
       "    <tr>\n",
       "      <th>964</th>\n",
       "      <td>2023-03-27</td>\n",
       "      <td>Investment</td>\n",
       "      <td>2033.00</td>\n",
       "      <td>Income</td>\n",
       "      <td>3</td>\n",
       "    </tr>\n",
       "    <tr>\n",
       "      <th>286</th>\n",
       "      <td>2020-12-26</td>\n",
       "      <td>Investment</td>\n",
       "      <td>2423.00</td>\n",
       "      <td>Income</td>\n",
       "      <td>12</td>\n",
       "    </tr>\n",
       "    <tr>\n",
       "      <th>1241</th>\n",
       "      <td>2024-02-17</td>\n",
       "      <td>Other</td>\n",
       "      <td>546.00</td>\n",
       "      <td>Income</td>\n",
       "      <td>2</td>\n",
       "    </tr>\n",
       "    <tr>\n",
       "      <th>1218</th>\n",
       "      <td>2024-01-19</td>\n",
       "      <td>Health &amp; Fitness</td>\n",
       "      <td>1423.60</td>\n",
       "      <td>Expense</td>\n",
       "      <td>1</td>\n",
       "    </tr>\n",
       "    <tr>\n",
       "      <th>1246</th>\n",
       "      <td>2024-02-22</td>\n",
       "      <td>Entertainment</td>\n",
       "      <td>1914.41</td>\n",
       "      <td>Expense</td>\n",
       "      <td>2</td>\n",
       "    </tr>\n",
       "  </tbody>\n",
       "</table>\n",
       "</div>"
      ],
      "text/plain": [
       "            Date          Category   Amount     Type  Month\n",
       "641   2022-03-28             Other  4762.00   Income      3\n",
       "409   2021-05-19        Investment  1921.00   Income      5\n",
       "314   2021-01-29         Utilities   521.37  Expense      1\n",
       "1468  2024-11-19            Salary   606.22   Income     11\n",
       "422   2021-05-31     Entertainment   649.84  Expense      5\n",
       "964   2023-03-27        Investment  2033.00   Income      3\n",
       "286   2020-12-26        Investment  2423.00   Income     12\n",
       "1241  2024-02-17             Other   546.00   Income      2\n",
       "1218  2024-01-19  Health & Fitness  1423.60  Expense      1\n",
       "1246  2024-02-22     Entertainment  1914.41  Expense      2"
      ]
     },
     "execution_count": 46,
     "metadata": {},
     "output_type": "execute_result"
    }
   ],
   "source": [
    "#create a copy just in case\n",
    "df = df.copy()\n",
    "#using the same code from  to add month column\n",
    "df['Date'] = df['Date'].astype(str)\n",
    "df['Month'] = df['Date'].str.split('-').str.get(1).astype(int)\n",
    "#make sure column was added properly\n",
    "df.sample(n=10)"
   ]
  },
  {
   "cell_type": "code",
   "execution_count": 47,
   "id": "16cf8ef9",
   "metadata": {},
   "outputs": [
    {
     "data": {
      "image/png": "[encoded data removed]",
      "text/plain": [
       "<Figure size 640x480 with 1 Axes>"
      ]
     },
     "metadata": {},
     "output_type": "display_data"
    }
   ],
   "source": [
    "#group data by type, then monthly amount sum\n",
    "grouped_entries = df.groupby(['Type', 'Month'])['Amount'].sum()\n",
    "\n",
    "#unstack grouped_entries df so we can plot it using matplotlib\n",
    "grouped_entries = grouped_entries.unstack('Type')\n",
    "grouped_entries.plot(kind='bar')\n",
    "\n",
    "#plot both expense and income\n",
    "plt.title('Monthly Income and Expenses')\n",
    "plt.xlabel('Month')\n",
    "plt.ylabel('Total Amount')\n",
    "plt.legend(title='Type')\n",
    "plt.show()"
   ]
  },
  {
   "cell_type": "markdown",
   "id": "f5e98a57",
   "metadata": {},
   "source": [
    "### 🔍 Insight\n",
    "\n",
    "This person is commonly spending much more than they earn. They are either bad spenders in credit debt or hopefully, they have missed entering their income."
   ]
  },
  {
   "cell_type": "markdown",
   "id": "9e6a3f90",
   "metadata": {},
   "source": [
    "## 5️⃣ Monthly Net Balance: Income - Expense 🕒\n",
    "\n",
    "Let's see exactly how much debt this person has accumulated over this 4 year period\\\n",
    "From the dataframe, lets add a 'Year' column then we'll groupby year, month and type.\\\n",
    "After this we will apply a lambda function to go through each row and subrtract\\\n",
    "expense from income, which we will find the sum of."
   ]
  },
  {
   "cell_type": "code",
   "execution_count": 48,
   "id": "89e9ed94",
   "metadata": {},
   "outputs": [
    {
     "data": {
      "text/html": [
       "<div>\n",
       "<style scoped>\n",
       "    .dataframe tbody tr th:only-of-type {\n",
       "        vertical-align: middle;\n",
       "    }\n",
       "\n",
       "    .dataframe tbody tr th {\n",
       "        vertical-align: top;\n",
       "    }\n",
       "\n",
       "    .dataframe thead th {\n",
       "        text-align: right;\n",
       "    }\n",
       "</style>\n",
       "<table border=\"1\" class=\"dataframe\">\n",
       "  <thead>\n",
       "    <tr style=\"text-align: right;\">\n",
       "      <th></th>\n",
       "      <th>Date</th>\n",
       "      <th>Category</th>\n",
       "      <th>Amount</th>\n",
       "      <th>Type</th>\n",
       "      <th>Month</th>\n",
       "    </tr>\n",
       "  </thead>\n",
       "  <tbody>\n",
       "    <tr>\n",
       "      <th>0</th>\n",
       "      <td>2020-01-02</td>\n",
       "      <td>Food &amp; Drink</td>\n",
       "      <td>1485.69</td>\n",
       "      <td>Expense</td>\n",
       "      <td>1</td>\n",
       "    </tr>\n",
       "    <tr>\n",
       "      <th>1</th>\n",
       "      <td>2020-01-02</td>\n",
       "      <td>Utilities</td>\n",
       "      <td>1475.58</td>\n",
       "      <td>Expense</td>\n",
       "      <td>1</td>\n",
       "    </tr>\n",
       "    <tr>\n",
       "      <th>2</th>\n",
       "      <td>2020-01-04</td>\n",
       "      <td>Rent</td>\n",
       "      <td>1185.08</td>\n",
       "      <td>Expense</td>\n",
       "      <td>1</td>\n",
       "    </tr>\n",
       "    <tr>\n",
       "      <th>3</th>\n",
       "      <td>2020-01-05</td>\n",
       "      <td>Investment</td>\n",
       "      <td>2291.00</td>\n",
       "      <td>Income</td>\n",
       "      <td>1</td>\n",
       "    </tr>\n",
       "    <tr>\n",
       "      <th>4</th>\n",
       "      <td>2020-01-13</td>\n",
       "      <td>Food &amp; Drink</td>\n",
       "      <td>1126.88</td>\n",
       "      <td>Expense</td>\n",
       "      <td>1</td>\n",
       "    </tr>\n",
       "  </tbody>\n",
       "</table>\n",
       "</div>"
      ],
      "text/plain": [
       "         Date      Category   Amount     Type  Month\n",
       "0  2020-01-02  Food & Drink  1485.69  Expense      1\n",
       "1  2020-01-02     Utilities  1475.58  Expense      1\n",
       "2  2020-01-04          Rent  1185.08  Expense      1\n",
       "3  2020-01-05    Investment  2291.00   Income      1\n",
       "4  2020-01-13  Food & Drink  1126.88  Expense      1"
      ]
     },
     "execution_count": 48,
     "metadata": {},
     "output_type": "execute_result"
    }
   ],
   "source": [
    "df.head()"
   ]
  },
  {
   "cell_type": "code",
   "execution_count": 49,
   "id": "39cde7d1",
   "metadata": {},
   "outputs": [
    {
     "data": {
      "text/html": [
       "<div>\n",
       "<style scoped>\n",
       "    .dataframe tbody tr th:only-of-type {\n",
       "        vertical-align: middle;\n",
       "    }\n",
       "\n",
       "    .dataframe tbody tr th {\n",
       "        vertical-align: top;\n",
       "    }\n",
       "\n",
       "    .dataframe thead th {\n",
       "        text-align: right;\n",
       "    }\n",
       "</style>\n",
       "<table border=\"1\" class=\"dataframe\">\n",
       "  <thead>\n",
       "    <tr style=\"text-align: right;\">\n",
       "      <th></th>\n",
       "      <th>Date</th>\n",
       "      <th>Category</th>\n",
       "      <th>Amount</th>\n",
       "      <th>Type</th>\n",
       "      <th>Month</th>\n",
       "      <th>Year</th>\n",
       "    </tr>\n",
       "  </thead>\n",
       "  <tbody>\n",
       "    <tr>\n",
       "      <th>357</th>\n",
       "      <td>2021-03-22</td>\n",
       "      <td>Investment</td>\n",
       "      <td>1038.00</td>\n",
       "      <td>Income</td>\n",
       "      <td>3</td>\n",
       "      <td>2021</td>\n",
       "    </tr>\n",
       "    <tr>\n",
       "      <th>808</th>\n",
       "      <td>2022-09-21</td>\n",
       "      <td>Utilities</td>\n",
       "      <td>1629.34</td>\n",
       "      <td>Expense</td>\n",
       "      <td>9</td>\n",
       "      <td>2022</td>\n",
       "    </tr>\n",
       "    <tr>\n",
       "      <th>1098</th>\n",
       "      <td>2023-09-04</td>\n",
       "      <td>Travel</td>\n",
       "      <td>1814.75</td>\n",
       "      <td>Expense</td>\n",
       "      <td>9</td>\n",
       "      <td>2023</td>\n",
       "    </tr>\n",
       "    <tr>\n",
       "      <th>442</th>\n",
       "      <td>2021-06-28</td>\n",
       "      <td>Rent</td>\n",
       "      <td>1020.30</td>\n",
       "      <td>Expense</td>\n",
       "      <td>6</td>\n",
       "      <td>2021</td>\n",
       "    </tr>\n",
       "    <tr>\n",
       "      <th>1373</th>\n",
       "      <td>2024-08-01</td>\n",
       "      <td>Food &amp; Drink</td>\n",
       "      <td>1451.74</td>\n",
       "      <td>Expense</td>\n",
       "      <td>8</td>\n",
       "      <td>2024</td>\n",
       "    </tr>\n",
       "  </tbody>\n",
       "</table>\n",
       "</div>"
      ],
      "text/plain": [
       "            Date      Category   Amount     Type  Month  Year\n",
       "357   2021-03-22    Investment  1038.00   Income      3  2021\n",
       "808   2022-09-21     Utilities  1629.34  Expense      9  2022\n",
       "1098  2023-09-04        Travel  1814.75  Expense      9  2023\n",
       "442   2021-06-28          Rent  1020.30  Expense      6  2021\n",
       "1373  2024-08-01  Food & Drink  1451.74  Expense      8  2024"
      ]
     },
     "execution_count": 49,
     "metadata": {},
     "output_type": "execute_result"
    }
   ],
   "source": [
    "#create 'Year' column using date column with str.split().\n",
    "df['Year'] = df['Date'].str.split('-').str.get(0)\n",
    "#check it worked\n",
    "df.sample(n=5)"
   ]
  },
  {
   "cell_type": "markdown",
   "id": "7d0afa1d",
   "metadata": {},
   "source": [
    "Yearly income and expenses broken into months"
   ]
  },
  {
   "cell_type": "code",
   "execution_count": 50,
   "id": "481ab6b3",
   "metadata": {},
   "outputs": [
    {
     "data": {
      "text/html": [
       "<div>\n",
       "<style scoped>\n",
       "    .dataframe tbody tr th:only-of-type {\n",
       "        vertical-align: middle;\n",
       "    }\n",
       "\n",
       "    .dataframe tbody tr th {\n",
       "        vertical-align: top;\n",
       "    }\n",
       "\n",
       "    .dataframe thead th {\n",
       "        text-align: right;\n",
       "    }\n",
       "</style>\n",
       "<table border=\"1\" class=\"dataframe\">\n",
       "  <thead>\n",
       "    <tr style=\"text-align: right;\">\n",
       "      <th></th>\n",
       "      <th>Type</th>\n",
       "      <th>Expense</th>\n",
       "      <th>Income</th>\n",
       "    </tr>\n",
       "    <tr>\n",
       "      <th>Year</th>\n",
       "      <th>Month</th>\n",
       "      <th></th>\n",
       "      <th></th>\n",
       "    </tr>\n",
       "  </thead>\n",
       "  <tbody>\n",
       "    <tr>\n",
       "      <th rowspan=\"2\" valign=\"top\">2022</th>\n",
       "      <th>12</th>\n",
       "      <td>11487.82</td>\n",
       "      <td>4047.48</td>\n",
       "    </tr>\n",
       "    <tr>\n",
       "      <th>5</th>\n",
       "      <td>25644.12</td>\n",
       "      <td>18016.93</td>\n",
       "    </tr>\n",
       "    <tr>\n",
       "      <th rowspan=\"2\" valign=\"top\">2024</th>\n",
       "      <th>1</th>\n",
       "      <td>26896.85</td>\n",
       "      <td>25993.28</td>\n",
       "    </tr>\n",
       "    <tr>\n",
       "      <th>5</th>\n",
       "      <td>14511.28</td>\n",
       "      <td>5607.28</td>\n",
       "    </tr>\n",
       "    <tr>\n",
       "      <th>2021</th>\n",
       "      <th>6</th>\n",
       "      <td>20155.57</td>\n",
       "      <td>7581.06</td>\n",
       "    </tr>\n",
       "  </tbody>\n",
       "</table>\n",
       "</div>"
      ],
      "text/plain": [
       "Type         Expense    Income\n",
       "Year Month                    \n",
       "2022 12     11487.82   4047.48\n",
       "     5      25644.12  18016.93\n",
       "2024 1      26896.85  25993.28\n",
       "     5      14511.28   5607.28\n",
       "2021 6      20155.57   7581.06"
      ]
     },
     "execution_count": 50,
     "metadata": {},
     "output_type": "execute_result"
    }
   ],
   "source": [
    "#Groupby year, month then type and sum of amount, then unstack so we can apply a lambda function later\n",
    "yearly_df = df.groupby(['Year', 'Month', 'Type'])['Amount'].sum().unstack()\n",
    "#Ensure this worked\n",
    "yearly_df.sample(n=5)"
   ]
  },
  {
   "cell_type": "code",
   "execution_count": 51,
   "id": "b67cb221",
   "metadata": {},
   "outputs": [
    {
     "data": {
      "text/html": [
       "<div>\n",
       "<style scoped>\n",
       "    .dataframe tbody tr th:only-of-type {\n",
       "        vertical-align: middle;\n",
       "    }\n",
       "\n",
       "    .dataframe tbody tr th {\n",
       "        vertical-align: top;\n",
       "    }\n",
       "\n",
       "    .dataframe thead th {\n",
       "        text-align: right;\n",
       "    }\n",
       "</style>\n",
       "<table border=\"1\" class=\"dataframe\">\n",
       "  <thead>\n",
       "    <tr style=\"text-align: right;\">\n",
       "      <th></th>\n",
       "      <th>Type</th>\n",
       "      <th>Expense</th>\n",
       "      <th>Income</th>\n",
       "      <th>Income-Expense</th>\n",
       "    </tr>\n",
       "    <tr>\n",
       "      <th>Year</th>\n",
       "      <th>Month</th>\n",
       "      <th></th>\n",
       "      <th></th>\n",
       "      <th></th>\n",
       "    </tr>\n",
       "  </thead>\n",
       "  <tbody>\n",
       "    <tr>\n",
       "      <th rowspan=\"5\" valign=\"top\">2020</th>\n",
       "      <th>1</th>\n",
       "      <td>16061.16</td>\n",
       "      <td>6655.09</td>\n",
       "      <td>-9406.07</td>\n",
       "    </tr>\n",
       "    <tr>\n",
       "      <th>2</th>\n",
       "      <td>16814.10</td>\n",
       "      <td>20364.31</td>\n",
       "      <td>3550.21</td>\n",
       "    </tr>\n",
       "    <tr>\n",
       "      <th>3</th>\n",
       "      <td>13581.81</td>\n",
       "      <td>3465.00</td>\n",
       "      <td>-10116.81</td>\n",
       "    </tr>\n",
       "    <tr>\n",
       "      <th>4</th>\n",
       "      <td>14010.45</td>\n",
       "      <td>9592.60</td>\n",
       "      <td>-4417.85</td>\n",
       "    </tr>\n",
       "    <tr>\n",
       "      <th>5</th>\n",
       "      <td>16528.08</td>\n",
       "      <td>6326.05</td>\n",
       "      <td>-10202.03</td>\n",
       "    </tr>\n",
       "  </tbody>\n",
       "</table>\n",
       "</div>"
      ],
      "text/plain": [
       "Type         Expense    Income  Income-Expense\n",
       "Year Month                                    \n",
       "2020 1      16061.16   6655.09        -9406.07\n",
       "     2      16814.10  20364.31         3550.21\n",
       "     3      13581.81   3465.00       -10116.81\n",
       "     4      14010.45   9592.60        -4417.85\n",
       "     5      16528.08   6326.05       -10202.03"
      ]
     },
     "execution_count": 51,
     "metadata": {},
     "output_type": "execute_result"
    }
   ],
   "source": [
    "#Apply Lambda function to each row that will subtract expense from income\n",
    "#result = dataframe.apply(lambda row: row['attribute1'] - row['attribute2'], axis=1)\n",
    "yearly_df['Income-Expense'] = yearly_df.apply(lambda row: row['Income'] - row['Expense'], axis=1)\n",
    "#Ensure this worked\n",
    "yearly_df.head()"
   ]
  },
  {
   "cell_type": "code",
   "execution_count": 52,
   "id": "0120bd82",
   "metadata": {},
   "outputs": [
    {
     "data": {
      "text/plain": [
       "np.float64(-195000.27)"
      ]
     },
     "execution_count": 52,
     "metadata": {},
     "output_type": "execute_result"
    }
   ],
   "source": [
    "#Apply .sum() to 'Income-Expense' Column to see whether this person is positive or negative overall\n",
    "yearly_df['Income-Expense'].sum()"
   ]
  },
  {
   "cell_type": "markdown",
   "id": "15f3e306",
   "metadata": {},
   "source": [
    "### 🔍 Insight\n",
    "\n",
    "This person is in alot of debt. At a total of -195000.27 in just 5 years.\\\n",
    "Lets graph this trend by year to aid our projection for the coming year if nothing changes."
   ]
  },
  {
   "cell_type": "code",
   "execution_count": 53,
   "id": "09d9fe49",
   "metadata": {},
   "outputs": [
    {
     "data": {
      "image/png": "[encoded data removed]",
      "text/plain": [
       "<Figure size 640x480 with 1 Axes>"
      ]
     },
     "metadata": {},
     "output_type": "display_data"
    }
   ],
   "source": [
    "#Sum by year then use cumsum(cumulative sum) to see running total trend over the years\n",
    "\n",
    "yearly_expense =yearly_df.groupby(['Year'])['Income-Expense'].sum()\n",
    "yearly_expense = -yearly_expense   # flip signs\n",
    "yearly_cumsum = yearly_expense.cumsum()   # store the cumulative sum!\n",
    "yearly_cumsum = yearly_cumsum.sort_index()\n",
    "yearly_cumsum.cumsum()\n",
    "\n",
    "yearly_cumsum.plot(kind='line')\n",
    "\n",
    "plt.title('Income - Expense Trend: 2020 - 2024')\n",
    "plt.xlabel('Year')\n",
    "plt.ylabel('Total Amount')\n",
    "plt.show()\n"
   ]
  },
  {
   "cell_type": "code",
   "execution_count": 54,
   "id": "09fe1794",
   "metadata": {},
   "outputs": [
    {
     "data": {
      "text/plain": [
       "np.float64(39000.054000000004)"
      ]
     },
     "execution_count": 54,
     "metadata": {},
     "output_type": "execute_result"
    }
   ],
   "source": [
    "#Mean debt accrued per year\n",
    "yearly_expense.mean()"
   ]
  },
  {
   "cell_type": "markdown",
   "id": "dc8c9024",
   "metadata": {},
   "source": [
    "### 🔍 Insight\n",
    "\n",
    "This person has accrued $195000 worth of debt in 5 years, Averaging to $39000 debt per year.\\\n",
    "If nothing changes, this person will have $243000 worth of debt in a year\\\n",
    "and $390000 worth of debt in 5 years time.\n"
   ]
  },
  {
   "cell_type": "markdown",
   "id": "f97556bc",
   "metadata": {},
   "source": [
    "## In Summary 📝\n",
    "\n",
    "This person's expenses are pretty evenly distributed, with a 2.2% difference from the largest expense category to the smallest.\\\n",
    "Upon graphing monthly spending trends, it can be seen that this person spends the most during July, with a close second at the\\\n",
    "start of the year, while spending the least at the very end of the year.\\\n",
    "\n",
    "After overlaying income on top of the expense trend, we can see that this person spends alot more than they make.\\\n",
    "Delving into this by adding a new column that subracts expense from income for each month, then calculating the sum\\\n",
    "of this column, we find this person is $195000 in debt in just 5 years. This means on average, per year they accrue\\\n",
    "$39000 of debt per year. Therefore, if nothing changes, in a year they will be in $243000 worth of debt, and in 5 years\\\n",
    "they will be in $390000 worth of debt"
   ]
  }
 ],
 "metadata": {
  "kernelspec": {
   "display_name": "Python 3",
   "language": "python",
   "name": "python3"
  },
  "language_info": {
   "codemirror_mode": {
    "name": "ipython",
    "version": 3
   },
   "file_extension": ".py",
   "mimetype": "text/x-python",
   "name": "python",
   "nbconvert_exporter": "python",
   "pygments_lexer": "ipython3",
   "version": "3.11.9"
  }
 },
 "nbformat": 4,
 "nbformat_minor": 5
}
